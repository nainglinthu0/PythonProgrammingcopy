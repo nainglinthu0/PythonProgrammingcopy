{
  "nbformat": 4,
  "nbformat_minor": 0,
  "metadata": {
    "colab": {
      "provenance": []
    },
    "kernelspec": {
      "name": "python3",
      "display_name": "Python 3"
    },
    "language_info": {
      "name": "python"
    }
  },
  "cells": [
    {
      "cell_type": "markdown",
      "source": [
        "1) Write a Python program to create a dictionary that count the frequency of words in the string given in Q1.txt. Find the most frequent occured word."
      ],
      "metadata": {
        "id": "bBSbIZTtW7q4"
      }
    },
    {
      "cell_type": "code",
      "source": [
        "with open('Q1.txt', 'r') as file1:\n",
        "    wordlist = file1.read()\n",
        "wordlist"
      ],
      "metadata": {
        "colab": {
          "base_uri": "https://localhost:8080/",
          "height": 53
        },
        "id": "YTEzX5ivFHle",
        "outputId": "bc73ee31-f6e9-4a5e-db7a-3ed5add7609f"
      },
      "execution_count": 15,
      "outputs": [
        {
          "output_type": "execute_result",
          "data": {
            "text/plain": [
              "'I love this movie! It is sweet, but with satirical humor. The dialogs are great and the adventure scenes are fun. It manages to be romantic and whimsical while laughingat the conventions of the fairy tale genre. I would recommend it to just about anyone. I have seen it several times and I am always happy to see it again and again. '"
            ],
            "application/vnd.google.colaboratory.intrinsic+json": {
              "type": "string"
            }
          },
          "metadata": {},
          "execution_count": 15
        }
      ]
    },
    {
      "cell_type": "code",
      "source": [
        "with open('Q1.txt', 'r') as file1:\n",
        "    wordlist = file1.read()\n",
        "\n",
        "words = wordlist.lower().split()\n",
        "word_frequency = {}\n",
        "\n",
        "for word in words:\n",
        "    if word == word.strip('.,!').strip():\n",
        "        if word not in word_frequency:\n",
        "            word_frequency[word] = 1\n",
        "        else:\n",
        "            word_frequency[word] = word_frequency[word] + 1\n",
        "\n",
        "most_frequent_word = max(word_frequency, key=word_frequency.get)\n",
        "frequency = word_frequency[most_frequent_word]\n",
        "\n",
        "\n",
        "print(word_frequency)\n",
        "for word, count in word_frequency.items():\n",
        "    print(f\"{word}: {count}\")\n",
        "\n",
        "\n",
        "print(f\"\\nThe most frequent word is '{most_frequent_word}' with a frequency of {frequency}.\")\n"
      ],
      "metadata": {
        "colab": {
          "base_uri": "https://localhost:8080/"
        },
        "id": "a46g6NMmAhkv",
        "outputId": "0547e302-6bb5-41b1-b3e0-3e0fac29561b"
      },
      "execution_count": 17,
      "outputs": [
        {
          "output_type": "stream",
          "name": "stdout",
          "text": [
            "{'i': 4, 'love': 1, 'this': 1, 'it': 5, 'is': 1, 'but': 1, 'with': 1, 'satirical': 1, 'the': 4, 'dialogs': 1, 'are': 2, 'great': 1, 'and': 4, 'adventure': 1, 'scenes': 1, 'manages': 1, 'to': 3, 'be': 1, 'romantic': 1, 'whimsical': 1, 'while': 1, 'laughingat': 1, 'conventions': 1, 'of': 1, 'fairy': 1, 'tale': 1, 'would': 1, 'recommend': 1, 'just': 1, 'about': 1, 'have': 1, 'seen': 1, 'several': 1, 'times': 1, 'am': 1, 'always': 1, 'happy': 1, 'see': 1, 'again': 1}\n",
            "i: 4\n",
            "love: 1\n",
            "this: 1\n",
            "it: 5\n",
            "is: 1\n",
            "but: 1\n",
            "with: 1\n",
            "satirical: 1\n",
            "the: 4\n",
            "dialogs: 1\n",
            "are: 2\n",
            "great: 1\n",
            "and: 4\n",
            "adventure: 1\n",
            "scenes: 1\n",
            "manages: 1\n",
            "to: 3\n",
            "be: 1\n",
            "romantic: 1\n",
            "whimsical: 1\n",
            "while: 1\n",
            "laughingat: 1\n",
            "conventions: 1\n",
            "of: 1\n",
            "fairy: 1\n",
            "tale: 1\n",
            "would: 1\n",
            "recommend: 1\n",
            "just: 1\n",
            "about: 1\n",
            "have: 1\n",
            "seen: 1\n",
            "several: 1\n",
            "times: 1\n",
            "am: 1\n",
            "always: 1\n",
            "happy: 1\n",
            "see: 1\n",
            "again: 1\n",
            "\n",
            "The most frequent word is 'it' with a frequency of 5.\n"
          ]
        }
      ]
    },
    {
      "cell_type": "markdown",
      "source": [
        "2) Write a Python program to read the name from Q2.txt and create email using domain 'parami.edu.mm' and save the results as dictionary :\n",
        "{'name': 'name@parami.edu.mm'}.\n",
        "Please take note that your email should not include space or any special characters and all charcters should be in lowercase."
      ],
      "metadata": {
        "id": "aQP7q021Xr9W"
      }
    },
    {
      "cell_type": "code",
      "source": [
        "with open ('Q2.txt', 'r') as names:\n",
        "    header = names.readline()\n",
        "    namelist = names.readlines()\n",
        "namelist"
      ],
      "metadata": {
        "colab": {
          "base_uri": "https://localhost:8080/"
        },
        "id": "usQ0xMKtDTg8",
        "outputId": "f2646269-96d8-47f7-f357-3eeaa9f6b1b8"
      },
      "execution_count": 12,
      "outputs": [
        {
          "output_type": "execute_result",
          "data": {
            "text/plain": [
              "['Dechen Dorji\\n',\n",
              " 'Deki Tshomo\\n',\n",
              " 'Dorji Tshering\\n',\n",
              " 'Dorji Wangmo\\n',\n",
              " 'Gem Tshering Lepcha\\n',\n",
              " 'Jigme Dorji\\n',\n",
              " 'Kinley Cheki\\n',\n",
              " 'Kinley Wangmo\\n',\n",
              " 'Ngawang Dema Karpo\\n',\n",
              " 'Roshan Chhetri\\n',\n",
              " 'Sonam Tenzin\\n',\n",
              " 'Sonam Tobgay\\n',\n",
              " 'Sonam Yangden\\n',\n",
              " 'Tandin Om\\n',\n",
              " 'Tandin Wangchuk\\n',\n",
              " 'Tashi Om\\n',\n",
              " 'Tenday Zangmo\\n',\n",
              " 'Tshering Pem\\n',\n",
              " 'Ugyen Phurpa\\n',\n",
              " 'Marmitt']"
            ]
          },
          "metadata": {},
          "execution_count": 12
        }
      ]
    },
    {
      "cell_type": "code",
      "source": [
        "with open ('Q2.txt', 'r') as names:\n",
        "    header = names.readline()\n",
        "    namelist = names.readlines()\n",
        "domain = \"parami.edu.mm\"\n",
        "email_list = []\n",
        "\n",
        "for name in namelist:\n",
        "    name = name.strip()\n",
        "    name = ''.join(i for i in name if i.isalnum())\n",
        "    name = name.lower()\n",
        "    email = f\"{name}@{domain}\"\n",
        "    email_dict = {'name': name, 'email': email}\n",
        "    email_list.append(email_dict)\n",
        "\n",
        "for final_name in email_list:\n",
        "    print(final_name)\n",
        ""
      ],
      "metadata": {
        "colab": {
          "base_uri": "https://localhost:8080/"
        },
        "id": "kk0khvimAwT-",
        "outputId": "81d569b1-1a76-422e-ecd0-6fcafe5b80f4"
      },
      "execution_count": 13,
      "outputs": [
        {
          "output_type": "stream",
          "name": "stdout",
          "text": [
            "{'name': 'dechendorji', 'email': 'dechendorji@parami.edu.mm'}\n",
            "{'name': 'dekitshomo', 'email': 'dekitshomo@parami.edu.mm'}\n",
            "{'name': 'dorjitshering', 'email': 'dorjitshering@parami.edu.mm'}\n",
            "{'name': 'dorjiwangmo', 'email': 'dorjiwangmo@parami.edu.mm'}\n",
            "{'name': 'gemtsheringlepcha', 'email': 'gemtsheringlepcha@parami.edu.mm'}\n",
            "{'name': 'jigmedorji', 'email': 'jigmedorji@parami.edu.mm'}\n",
            "{'name': 'kinleycheki', 'email': 'kinleycheki@parami.edu.mm'}\n",
            "{'name': 'kinleywangmo', 'email': 'kinleywangmo@parami.edu.mm'}\n",
            "{'name': 'ngawangdemakarpo', 'email': 'ngawangdemakarpo@parami.edu.mm'}\n",
            "{'name': 'roshanchhetri', 'email': 'roshanchhetri@parami.edu.mm'}\n",
            "{'name': 'sonamtenzin', 'email': 'sonamtenzin@parami.edu.mm'}\n",
            "{'name': 'sonamtobgay', 'email': 'sonamtobgay@parami.edu.mm'}\n",
            "{'name': 'sonamyangden', 'email': 'sonamyangden@parami.edu.mm'}\n",
            "{'name': 'tandinom', 'email': 'tandinom@parami.edu.mm'}\n",
            "{'name': 'tandinwangchuk', 'email': 'tandinwangchuk@parami.edu.mm'}\n",
            "{'name': 'tashiom', 'email': 'tashiom@parami.edu.mm'}\n",
            "{'name': 'tendayzangmo', 'email': 'tendayzangmo@parami.edu.mm'}\n",
            "{'name': 'tsheringpem', 'email': 'tsheringpem@parami.edu.mm'}\n",
            "{'name': 'ugyenphurpa', 'email': 'ugyenphurpa@parami.edu.mm'}\n",
            "{'name': 'marmitt', 'email': 'marmitt@parami.edu.mm'}\n"
          ]
        }
      ]
    }
  ]
}