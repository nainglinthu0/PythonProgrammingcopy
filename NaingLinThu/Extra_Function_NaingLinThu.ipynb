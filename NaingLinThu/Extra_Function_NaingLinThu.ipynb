{
  "cells": [
    {
      "cell_type": "raw",
      "id": "dcb4f63a",
      "metadata": {
        "id": "dcb4f63a"
      },
      "source": [
        "Q1. Write a Python function to find the minimum of five numbers."
      ]
    },
    {
      "cell_type": "raw",
      "id": "3a840d6c",
      "metadata": {
        "id": "3a840d6c"
      },
      "source": [
        "Q2. Write a Python function to add all the numbers in a given list.\n",
        "ls = [23, 34, 56, 70, 81, 90]"
      ]
    },
    {
      "cell_type": "raw",
      "id": "81cef12a",
      "metadata": {
        "id": "81cef12a"
      },
      "source": [
        "Q3. Write a Python funciton to reverse a string given by the user."
      ]
    },
    {
      "cell_type": "raw",
      "id": "fe8b6435",
      "metadata": {
        "id": "fe8b6435"
      },
      "source": [
        "Q4.  Write a Python function that counts the number of digits, upper case letters and lower case letters in the given string : mystr = \"riChard@98#ABC\""
      ]
    },
    {
      "cell_type": "raw",
      "id": "b4d24273",
      "metadata": {
        "id": "b4d24273"
      },
      "source": [
        "Q5. Write a Python function to print the prime numbers from a given list: ls = [10,11,12,15]"
      ]
    },
    {
      "cell_type": "raw",
      "id": "8c76e7d2",
      "metadata": {
        "id": "8c76e7d2"
      },
      "source": [
        "Q6. Write a Python function to sort the given list in alphabetical order. str_list = [\"richard\", \"namgay\", \"ramper\"]"
      ]
    },
    {
      "cell_type": "raw",
      "id": "db55eaed",
      "metadata": {
        "id": "db55eaed"
      },
      "source": [
        "Q7. Write a Python function to square a number given by user."
      ]
    },
    {
      "cell_type": "raw",
      "id": "09781352",
      "metadata": {
        "id": "09781352"
      },
      "source": [
        "Q8. Write a Python function to compute your age for the date of birth given by user."
      ]
    },
    {
      "cell_type": "raw",
      "id": "d5a4f9a5",
      "metadata": {
        "id": "d5a4f9a5"
      },
      "source": [
        "Q9. Write a Python function to compute y = 3x^2-4x."
      ]
    },
    {
      "cell_type": "raw",
      "id": "1c5d680b",
      "metadata": {
        "id": "1c5d680b"
      },
      "source": [
        "Q10. Write a Python function to create an email using a name given by user."
      ]
    }
  ],
  "metadata": {
    "kernelspec": {
      "display_name": "Python 3",
      "language": "python",
      "name": "python3"
    },
    "language_info": {
      "codemirror_mode": {
        "name": "ipython",
        "version": 3
      },
      "file_extension": ".py",
      "mimetype": "text/x-python",
      "name": "python",
      "nbconvert_exporter": "python",
      "pygments_lexer": "ipython3",
      "version": "3.8.8"
    },
    "colab": {
      "provenance": []
    }
  },
  "nbformat": 4,
  "nbformat_minor": 5
}